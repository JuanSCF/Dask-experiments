{
  "nbformat": 4,
  "nbformat_minor": 0,
  "metadata": {
    "colab": {
      "provenance": []
    },
    "kernelspec": {
      "name": "python3",
      "display_name": "Python 3"
    },
    "language_info": {
      "name": "python"
    }
  },
  "cells": [
    {
      "cell_type": "code",
      "execution_count": 3,
      "metadata": {
        "colab": {
          "base_uri": "https://localhost:8080/"
        },
        "id": "sBZP8snjLsXu",
        "outputId": "7a822259-844a-4637-e46a-1d696b5b3306"
      },
      "outputs": [
        {
          "output_type": "stream",
          "name": "stdout",
          "text": [
            "Resultados (secuencial): [0, 1, 4, 9, 16, 25, 36, 49, 64, 81]\n",
            "Tiempo secuencial: 10.00 segundos\n",
            "Resultados (dask): (0, 1, 4, 9, 16, 25, 36, 49, 64, 81)\n",
            "Tiempo con Dask: 5.01 segundos\n"
          ]
        }
      ],
      "source": [
        "import dask\n",
        "from dask import delayed\n",
        "import time\n",
        "\n",
        "def tarea_lenta(x):\n",
        "    time.sleep(1)\n",
        "    return x**2\n",
        "\n",
        "# --- EJECUCIÓN SECUENCIAL ---\n",
        "start_seq = time.time()\n",
        "\n",
        "resultados_seq = [tarea_lenta(i) for i in range(10)]\n",
        "\n",
        "end_seq = time.time()\n",
        "\n",
        "# --- EJECUCIÓN CON DASK (PARALELA) ---\n",
        "@delayed\n",
        "def tarea_lenta_dask(x):\n",
        "    time.sleep(1)\n",
        "    return x**2\n",
        "\n",
        "start_dask = time.time()\n",
        "\n",
        "resultados_dask = [tarea_lenta_dask(i) for i in range(10)]\n",
        "final_dask = dask.compute(*resultados_dask)\n",
        "\n",
        "end_dask = time.time()\n",
        "\n",
        "# --- RESULTADOS ---\n",
        "print(\"Resultados (secuencial):\", resultados_seq)\n",
        "print(f\"Tiempo secuencial: {end_seq - start_seq:.2f} segundos\")\n",
        "\n",
        "print(\"Resultados (dask):\", final_dask)\n",
        "print(f\"Tiempo con Dask: {end_dask - start_dask:.2f} segundos\")\n"
      ]
    }
  ]
}